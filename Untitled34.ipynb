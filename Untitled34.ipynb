{
 "cells": [
  {
   "cell_type": "markdown",
   "id": "e4c36d97",
   "metadata": {},
   "source": [
    "## 1) a) Word_tokenise and sent_tokenise \n",
    " \n",
    "## b) Using stop words eliminate most common words, do stemming and lemmatization"
   ]
  },
  {
   "cell_type": "code",
   "execution_count": 3,
   "id": "eed3d84d",
   "metadata": {},
   "outputs": [],
   "source": [
    "import nltk\n",
    "from nltk.tokenize import sent_tokenize, word_tokenize\n"
   ]
  },
  {
   "cell_type": "code",
   "execution_count": 8,
   "id": "a562fa13",
   "metadata": {},
   "outputs": [
    {
     "name": "stderr",
     "output_type": "stream",
     "text": [
      "[nltk_data] Downloading package punkt to\n",
      "[nltk_data]     C:\\Users\\DELL\\AppData\\Roaming\\nltk_data...\n",
      "[nltk_data]   Package punkt is already up-to-date!\n"
     ]
    }
   ],
   "source": [
    "\n",
    "nltk.download('punkt')  \n",
    "\n",
    "paragraph = \"\"\"\n",
    "\"For decades the All-India Congress under the leadership of Mohandas K. \n",
    "Gandhi struggled to rally the millions of British-ruled peoples in the Indian subcontinent. Like \n",
    "similar movements in other countries, it early felt the need for a distinctive symbol that could \n",
    "represent its nationalist objectives. In 1921 a university lecturer named Pingali (or Pinglay) \n",
    "Venkayya presented a flag design to Gandhi that consisted of the colours associated with the \n",
    "two principal religions, red for the Hindus and green for the Muslims. To the centre of the \n",
    "horizontally divided flag, Lala Hans Raj Sondhi suggested the addition of the traditional \n",
    "spinning wheel, which was associated with Gandhi’s crusade to make Indians self-reliant by \n",
    "fabricating their own clothing from local fibres.       \n",
    "Gandhi modified the flag by adding a white stripe in the centre for the other religious \n",
    "communities in India, thus also providing a clearly visible background for the spinning wheel. \n",
    "In May 1923 at Nagpur, during peaceful protests against British rule, the flag was carried by \n",
    "thousands of people, hundreds of whom were arrested. The Congress flag came to be associated \n",
    "with nationhood for India, and it was officially recognized at the annual meeting of the party \n",
    "in August 1931. At the same time, the current arrangement of stripes and the use of deep saffron \n",
    "instead of red were approved. To avoid the sectarian associations of the original proposal, new \n",
    "attributions were associated with the saffron, white, and green stripes. They were said to stand \n",
    "for, respectively, courage and sacrifice, peace and truth, and faith and chivalry. During World \n",
    "War II Subhas Chandra Bose used this flag (without the spinning wheel) in territories his \n",
    "Japanese-aided army had captured.\"\n",
    "\"\"\"\n",
    "\n",
    "# Tokenize the paragraph into sentences\n",
    "sentences = sent_tokenize(paragraph)\n",
    "\n",
    "# Tokenize each sentence into words\n",
    "word_tokens = [word_tokenize(sentence) for sentence in sentences]\n",
    "\n"
   ]
  },
  {
   "cell_type": "code",
   "execution_count": 6,
   "id": "bec008c6",
   "metadata": {},
   "outputs": [
    {
     "name": "stdout",
     "output_type": "stream",
     "text": [
      "Sentences:\n",
      "1. \n",
      "\"For decades the All-India Congress under the leadership of Mohandas K. \n",
      "Gandhi struggled to rally the millions of British-ruled peoples in the Indian subcontinent.\n",
      "2. Like \n",
      "similar movements in other countries, it early felt the need for a distinctive symbol that could \n",
      "represent its nationalist objectives.\n",
      "3. In 1921 a university lecturer named Pingali (or Pinglay) \n",
      "Venkayya presented a flag design to Gandhi that consisted of the colours associated with the \n",
      "two principal religions, red for the Hindus and green for the Muslims.\n",
      "4. To the centre of the \n",
      "horizontally divided flag, Lala Hans Raj Sondhi suggested the addition of the traditional \n",
      "spinning wheel, which was associated with Gandhi’s crusade to make Indians self-reliant by \n",
      "fabricating their own clothing from local fibres.\n",
      "5. Gandhi modified the flag by adding a white stripe in the centre for the other religious \n",
      "communities in India, thus also providing a clearly visible background for the spinning wheel.\n",
      "6. In May 1923 at Nagpur, during peaceful protests against British rule, the flag was carried by \n",
      "thousands of people, hundreds of whom were arrested.\n",
      "7. The Congress flag came to be associated \n",
      "with nationhood for India, and it was officially recognized at the annual meeting of the party \n",
      "in August 1931.\n",
      "8. At the same time, the current arrangement of stripes and the use of deep saffron \n",
      "instead of red were approved.\n",
      "9. To avoid the sectarian associations of the original proposal, new \n",
      "attributions were associated with the saffron, white, and green stripes.\n",
      "10. They were said to stand \n",
      "for, respectively, courage and sacrifice, peace and truth, and faith and chivalry.\n",
      "11. During World \n",
      "War II Subhas Chandra Bose used this flag (without the spinning wheel) in territories his \n",
      "Japanese-aided army had captured.\"\n"
     ]
    }
   ],
   "source": [
    "print(\"Sentences:\")\n",
    "for i, sentence in enumerate(sentences):\n",
    "    print(f\"{i + 1}. {sentence}\")"
   ]
  },
  {
   "cell_type": "code",
   "execution_count": 7,
   "id": "a7f1668f",
   "metadata": {},
   "outputs": [
    {
     "name": "stdout",
     "output_type": "stream",
     "text": [
      "\n",
      "Word Tokens:\n",
      "1. [\"''\", 'For', 'decades', 'the', 'All-India', 'Congress', 'under', 'the', 'leadership', 'of', 'Mohandas', 'K.', 'Gandhi', 'struggled', 'to', 'rally', 'the', 'millions', 'of', 'British-ruled', 'peoples', 'in', 'the', 'Indian', 'subcontinent', '.']\n",
      "2. ['Like', 'similar', 'movements', 'in', 'other', 'countries', ',', 'it', 'early', 'felt', 'the', 'need', 'for', 'a', 'distinctive', 'symbol', 'that', 'could', 'represent', 'its', 'nationalist', 'objectives', '.']\n",
      "3. ['In', '1921', 'a', 'university', 'lecturer', 'named', 'Pingali', '(', 'or', 'Pinglay', ')', 'Venkayya', 'presented', 'a', 'flag', 'design', 'to', 'Gandhi', 'that', 'consisted', 'of', 'the', 'colours', 'associated', 'with', 'the', 'two', 'principal', 'religions', ',', 'red', 'for', 'the', 'Hindus', 'and', 'green', 'for', 'the', 'Muslims', '.']\n",
      "4. ['To', 'the', 'centre', 'of', 'the', 'horizontally', 'divided', 'flag', ',', 'Lala', 'Hans', 'Raj', 'Sondhi', 'suggested', 'the', 'addition', 'of', 'the', 'traditional', 'spinning', 'wheel', ',', 'which', 'was', 'associated', 'with', 'Gandhi', '’', 's', 'crusade', 'to', 'make', 'Indians', 'self-reliant', 'by', 'fabricating', 'their', 'own', 'clothing', 'from', 'local', 'fibres', '.']\n",
      "5. ['Gandhi', 'modified', 'the', 'flag', 'by', 'adding', 'a', 'white', 'stripe', 'in', 'the', 'centre', 'for', 'the', 'other', 'religious', 'communities', 'in', 'India', ',', 'thus', 'also', 'providing', 'a', 'clearly', 'visible', 'background', 'for', 'the', 'spinning', 'wheel', '.']\n",
      "6. ['In', 'May', '1923', 'at', 'Nagpur', ',', 'during', 'peaceful', 'protests', 'against', 'British', 'rule', ',', 'the', 'flag', 'was', 'carried', 'by', 'thousands', 'of', 'people', ',', 'hundreds', 'of', 'whom', 'were', 'arrested', '.']\n",
      "7. ['The', 'Congress', 'flag', 'came', 'to', 'be', 'associated', 'with', 'nationhood', 'for', 'India', ',', 'and', 'it', 'was', 'officially', 'recognized', 'at', 'the', 'annual', 'meeting', 'of', 'the', 'party', 'in', 'August', '1931', '.']\n",
      "8. ['At', 'the', 'same', 'time', ',', 'the', 'current', 'arrangement', 'of', 'stripes', 'and', 'the', 'use', 'of', 'deep', 'saffron', 'instead', 'of', 'red', 'were', 'approved', '.']\n",
      "9. ['To', 'avoid', 'the', 'sectarian', 'associations', 'of', 'the', 'original', 'proposal', ',', 'new', 'attributions', 'were', 'associated', 'with', 'the', 'saffron', ',', 'white', ',', 'and', 'green', 'stripes', '.']\n",
      "10. ['They', 'were', 'said', 'to', 'stand', 'for', ',', 'respectively', ',', 'courage', 'and', 'sacrifice', ',', 'peace', 'and', 'truth', ',', 'and', 'faith', 'and', 'chivalry', '.']\n",
      "11. ['During', 'World', 'War', 'II', 'Subhas', 'Chandra', 'Bose', 'used', 'this', 'flag', '(', 'without', 'the', 'spinning', 'wheel', ')', 'in', 'territories', 'his', 'Japanese-aided', 'army', 'had', 'captured', '.', \"''\"]\n"
     ]
    }
   ],
   "source": [
    "\n",
    "print(\"\\nWord Tokens:\")\n",
    "for i, tokens in enumerate(word_tokens):\n",
    "    print(f\"{i + 1}. {tokens}\")"
   ]
  },
  {
   "cell_type": "code",
   "execution_count": 10,
   "id": "cdedf368",
   "metadata": {},
   "outputs": [],
   "source": [
    "import nltk\n",
    "from nltk.tokenize import sent_tokenize, word_tokenize\n",
    "from nltk.corpus import stopwords\n",
    "from nltk.stem import PorterStemmer\n",
    "from nltk.stem import WordNetLemmatizer\n",
    "\n"
   ]
  },
  {
   "cell_type": "code",
   "execution_count": 12,
   "id": "860c7a38",
   "metadata": {},
   "outputs": [
    {
     "name": "stderr",
     "output_type": "stream",
     "text": [
      "[nltk_data] Downloading package punkt to\n",
      "[nltk_data]     C:\\Users\\DELL\\AppData\\Roaming\\nltk_data...\n",
      "[nltk_data]   Package punkt is already up-to-date!\n",
      "[nltk_data] Downloading package stopwords to\n",
      "[nltk_data]     C:\\Users\\DELL\\AppData\\Roaming\\nltk_data...\n",
      "[nltk_data]   Package stopwords is already up-to-date!\n",
      "[nltk_data] Downloading package wordnet to\n",
      "[nltk_data]     C:\\Users\\DELL\\AppData\\Roaming\\nltk_data...\n",
      "[nltk_data]   Package wordnet is already up-to-date!\n"
     ]
    },
    {
     "name": "stdout",
     "output_type": "stream",
     "text": [
      "Processed Sentences:\n",
      "1. '' decad all-india congress leadership mohanda k. gandhi struggl ralli million british-rul peopl indian subcontin .\n",
      "2. like similar movement countri , earli felt need distinct symbol could repres nationalist object .\n",
      "3. 1921 univers lectur name pingali ( pinglay ) venkayya present flag design gandhi consist colour associ two princip religion , red hindu green muslim .\n",
      "4. centr horizont divid flag , lala han raj sondhi suggest addit tradit spin wheel , associ gandhi ’ crusad make indian self-reli fabric cloth local fibr .\n",
      "5. gandhi modifi flag ad white stripe centr religi commun india , thu also provid clearli visibl background spin wheel .\n",
      "6. may 1923 nagpur , peac protest british rule , flag carri thousand peopl , hundr arrest .\n",
      "7. congress flag came associ nationhood india , offici recogn annual meet parti august 1931 .\n",
      "8. time , current arrang stripe use deep saffron instead red approv .\n",
      "9. avoid sectarian associ origin propos , new attribut associ saffron , white , green stripe .\n",
      "10. said stand , respect , courag sacrific , peac truth , faith chivalri .\n",
      "11. world war ii subha chandra bose use flag ( without spin wheel ) territori japanese-aid armi captur . ''\n"
     ]
    }
   ],
   "source": [
    "\n",
    "nltk.download('punkt')  # Download the necessary tokenizer models if not already downloaded\n",
    "nltk.download('stopwords')  # Download stopwords corpus if not already downloaded\n",
    "nltk.download('wordnet')  # Download WordNet lemmatizer data if not already downloaded\n",
    "\n",
    "paragraph = \"\"\"\n",
    "\"For decades the All-India Congress under the leadership of Mohandas K. \n",
    "Gandhi struggled to rally the millions of British-ruled peoples in the Indian subcontinent. Like \n",
    "similar movements in other countries, it early felt the need for a distinctive symbol that could \n",
    "represent its nationalist objectives. In 1921 a university lecturer named Pingali (or Pinglay) \n",
    "Venkayya presented a flag design to Gandhi that consisted of the colours associated with the \n",
    "two principal religions, red for the Hindus and green for the Muslims. To the centre of the \n",
    "horizontally divided flag, Lala Hans Raj Sondhi suggested the addition of the traditional \n",
    "spinning wheel, which was associated with Gandhi’s crusade to make Indians self-reliant by \n",
    "fabricating their own clothing from local fibres.       \n",
    "Gandhi modified the flag by adding a white stripe in the centre for the other religious \n",
    "communities in India, thus also providing a clearly visible background for the spinning wheel. \n",
    "In May 1923 at Nagpur, during peaceful protests against British rule, the flag was carried by \n",
    "thousands of people, hundreds of whom were arrested. The Congress flag came to be associated \n",
    "with nationhood for India, and it was officially recognized at the annual meeting of the party \n",
    "in August 1931. At the same time, the current arrangement of stripes and the use of deep saffron \n",
    "instead of red were approved. To avoid the sectarian associations of the original proposal, new \n",
    "attributions were associated with the saffron, white, and green stripes. They were said to stand \n",
    "for, respectively, courage and sacrifice, peace and truth, and faith and chivalry. During World \n",
    "War II Subhas Chandra Bose used this flag (without the spinning wheel) in territories his \n",
    "Japanese-aided army had captured.\"\n",
    "\"\"\"\n",
    "\n",
    "# Tokenize the paragraph into sentences\n",
    "sentences = sent_tokenize(paragraph)\n",
    "\n",
    "# Initialize the Porter Stemmer and WordNet Lemmatizer\n",
    "stemmer = PorterStemmer()\n",
    "lemmatizer = WordNetLemmatizer()\n",
    "\n",
    "# Tokenize each sentence into words, eliminate stopwords, apply stemming and lemmatization\n",
    "processed_tokens = []\n",
    "for sentence in sentences:\n",
    "    word_tokens = word_tokenize(sentence)\n",
    "    filtered_words = [word for word in word_tokens if word.lower() not in stopwords.words('english')]\n",
    "    stemmed_words = [stemmer.stem(word) for word in filtered_words]\n",
    "    lemmatized_words = [lemmatizer.lemmatize(word) for word in stemmed_words]\n",
    "    processed_tokens.append(lemmatized_words)\n",
    "\n",
    "print(\"Processed Sentences:\")\n",
    "for i, sentence_tokens in enumerate(processed_tokens):\n",
    "    processed_sentence = ' '.join(sentence_tokens)\n",
    "    print(f\"{i + 1}. {processed_sentence}\")"
   ]
  },
  {
   "cell_type": "markdown",
   "id": "e8f7cedb",
   "metadata": {},
   "source": [
    "## 2. Copy the paragraph and apply the bag-of-words approach; Also, identify the bag-of-vector for each sentence."
   ]
  },
  {
   "cell_type": "code",
   "execution_count": 17,
   "id": "a058d006",
   "metadata": {},
   "outputs": [],
   "source": [
    "import nltk\n",
    "from nltk.tokenize import word_tokenize, sent_tokenize\n",
    "from sklearn.feature_extraction.text import CountVectorizer\n"
   ]
  },
  {
   "cell_type": "code",
   "execution_count": 30,
   "id": "6d602f3d",
   "metadata": {},
   "outputs": [
    {
     "name": "stderr",
     "output_type": "stream",
     "text": [
      "[nltk_data] Downloading package punkt to\n",
      "[nltk_data]     C:\\Users\\DELL\\AppData\\Roaming\\nltk_data...\n",
      "[nltk_data]   Package punkt is already up-to-date!\n"
     ]
    }
   ],
   "source": [
    "\n",
    "nltk.download('punkt')  # Download the necessary tokenizer models if not already downloaded\n",
    "\n",
    "paragraph = \"\"\"\n",
    "Construction of the mausoleum was essentially completed in 1643. but work continued on \n",
    "other phases of the project for another 10 years. The Taj Mahal complex is believed to have \n",
    "been completed in its entirety in 1653 at a cost estimated at the time to be around 32 million. \n",
    "The  construction  project  employed  some  20,000  artisans  under  the  guidance  of  a  board  of \n",
    "architects  led  by  the  court  architect  to  the  emperor, Ustad  Ahmad  Lahauri.  Various  types  of \n",
    "symbolism have been employed in the Taj to reflect natural beauty and divinity.\n",
    "\"\"\"\n",
    "\n",
    "# Tokenize the paragraph into sentences\n",
    "sentences = sent_tokenize(paragraph)\n",
    "\n",
    "# Initialize the CountVectorizer\n",
    "vectorizer = CountVectorizer()\n",
    "\n"
   ]
  },
  {
   "cell_type": "code",
   "execution_count": 31,
   "id": "ac6f2faa",
   "metadata": {},
   "outputs": [],
   "source": [
    "# Create bag-of-word vectors for each sentence\n",
    "bag_of_words_matrix = vectorizer.fit_transform(sentences)\n",
    "bag_of_words_vector = bag_of_words_matrix.toarray()\n",
    "\n",
    "\n"
   ]
  },
  {
   "cell_type": "code",
   "execution_count": 33,
   "id": "5c073bcd",
   "metadata": {},
   "outputs": [
    {
     "data": {
      "text/plain": [
       "<4x64 sparse matrix of type '<class 'numpy.int64'>'\n",
       "\twith 80 stored elements in Compressed Sparse Row format>"
      ]
     },
     "execution_count": 33,
     "metadata": {},
     "output_type": "execute_result"
    }
   ],
   "source": [
    "bag_of_words_matrix"
   ]
  },
  {
   "cell_type": "code",
   "execution_count": 34,
   "id": "d994f640",
   "metadata": {},
   "outputs": [
    {
     "data": {
      "text/plain": [
       "array([[0, 1, 1, 0, 0, 0, 0, 0, 1, 0, 0, 0, 0, 0, 0, 0, 0, 0, 0, 1, 0, 1,\n",
       "        0, 1, 1, 0, 0, 0, 0, 0, 0, 1, 0, 1, 0, 0, 1, 0, 0, 0, 0, 0, 1, 0,\n",
       "        0, 2, 1, 1, 1, 1, 0, 0, 0, 0, 2, 0, 0, 0, 0, 0, 0, 1, 1, 1],\n",
       "       [0, 0, 0, 1, 0, 1, 0, 0, 0, 0, 0, 1, 0, 2, 1, 0, 1, 1, 0, 0, 0, 1,\n",
       "        1, 0, 0, 1, 0, 0, 0, 0, 1, 0, 1, 0, 0, 1, 2, 1, 1, 0, 0, 1, 0, 1,\n",
       "        0, 0, 0, 0, 0, 0, 0, 0, 0, 1, 2, 1, 2, 0, 0, 0, 0, 0, 0, 0],\n",
       "       [1, 0, 0, 0, 1, 0, 1, 0, 0, 1, 1, 0, 1, 0, 0, 0, 0, 0, 1, 0, 1, 0,\n",
       "        0, 1, 0, 0, 1, 0, 1, 1, 0, 0, 0, 0, 1, 0, 0, 0, 0, 1, 1, 0, 0, 0,\n",
       "        0, 2, 0, 0, 0, 1, 0, 1, 0, 0, 4, 0, 1, 0, 1, 1, 0, 0, 0, 0],\n",
       "       [0, 0, 0, 0, 0, 0, 0, 1, 0, 0, 0, 0, 0, 0, 0, 1, 1, 0, 0, 0, 0, 0,\n",
       "        0, 0, 0, 0, 0, 1, 0, 1, 0, 0, 0, 0, 0, 1, 1, 0, 0, 0, 0, 0, 0, 0,\n",
       "        1, 1, 0, 0, 0, 0, 1, 0, 1, 1, 1, 0, 1, 1, 0, 0, 1, 0, 0, 0]],\n",
       "      dtype=int64)"
      ]
     },
     "execution_count": 34,
     "metadata": {},
     "output_type": "execute_result"
    }
   ],
   "source": [
    "bag_of_words_vector"
   ]
  },
  {
   "cell_type": "markdown",
   "id": "02ca4782",
   "metadata": {},
   "source": [
    "## 3. Copy the paragraph and apply TFIDF method and find the feature vector for each sentence."
   ]
  },
  {
   "cell_type": "code",
   "execution_count": 37,
   "id": "bdf41082",
   "metadata": {},
   "outputs": [],
   "source": [
    "from sklearn.feature_extraction.text import TfidfVectorizer\n",
    "\n",
    "# Sample text data\n",
    "paragraph = \"Referred to as the Venice of the East, Alappuzha has always enjoyed an important place \\\n",
    "in the maritime history of Kerala. Today, it is famous for its boat races, backwater holidays, \\\n",
    "beaches, marine products and coir industry. Alappuzha Beach is a popular picnic spot.\"\n",
    "\n",
    "# Split the paragraph into sentences\n",
    "sentences = paragraph.split('. ')\n",
    "\n",
    "# Create an instance of TfidfVectorizer\n",
    "tfidf_vectorizer = TfidfVectorizer()\n",
    "\n",
    "# Fit and transform the text data\n",
    "tfidf_matrix = tfidf_vectorizer.fit_transform(sentences)\n",
    "\n",
    "# Convert the matrix to an array for easier handling\n",
    "tfidf_array = tfidf_matrix.toarray()\n",
    "\n",
    "\n"
   ]
  },
  {
   "cell_type": "code",
   "execution_count": 39,
   "id": "be2188a0",
   "metadata": {},
   "outputs": [
    {
     "data": {
      "text/plain": [
       "<3x38 sparse matrix of type '<class 'numpy.float64'>'\n",
       "\twith 40 stored elements in Compressed Sparse Row format>"
      ]
     },
     "execution_count": 39,
     "metadata": {},
     "output_type": "execute_result"
    }
   ],
   "source": [
    "tfidf_matrix"
   ]
  },
  {
   "cell_type": "code",
   "execution_count": 40,
   "id": "41fa2381",
   "metadata": {},
   "outputs": [
    {
     "data": {
      "text/plain": [
       "array([[0.14226399, 0.18706005, 0.18706005, 0.        , 0.18706005,\n",
       "        0.        , 0.        , 0.        , 0.        , 0.        ,\n",
       "        0.18706005, 0.18706005, 0.        , 0.        , 0.18706005,\n",
       "        0.18706005, 0.        , 0.18706005, 0.18706005, 0.        ,\n",
       "        0.        , 0.        , 0.        , 0.18706005, 0.        ,\n",
       "        0.18706005, 0.3741201 , 0.        , 0.18706005, 0.        ,\n",
       "        0.        , 0.        , 0.18706005, 0.        , 0.56118015,\n",
       "        0.18706005, 0.        , 0.18706005],\n",
       "       [0.        , 0.        , 0.        , 0.25336031, 0.        ,\n",
       "        0.25336031, 0.        , 0.25336031, 0.25336031, 0.25336031,\n",
       "        0.        , 0.        , 0.25336031, 0.25336031, 0.        ,\n",
       "        0.        , 0.25336031, 0.        , 0.        , 0.25336031,\n",
       "        0.19268705, 0.25336031, 0.25336031, 0.        , 0.25336031,\n",
       "        0.        , 0.        , 0.        , 0.        , 0.        ,\n",
       "        0.25336031, 0.25336031, 0.        , 0.        , 0.        ,\n",
       "        0.        , 0.25336031, 0.        ],\n",
       "       [0.3349067 , 0.        , 0.        , 0.        , 0.        ,\n",
       "        0.        , 0.44036207, 0.        , 0.        , 0.        ,\n",
       "        0.        , 0.        , 0.        , 0.        , 0.        ,\n",
       "        0.        , 0.        , 0.        , 0.        , 0.        ,\n",
       "        0.3349067 , 0.        , 0.        , 0.        , 0.        ,\n",
       "        0.        , 0.        , 0.44036207, 0.        , 0.44036207,\n",
       "        0.        , 0.        , 0.        , 0.44036207, 0.        ,\n",
       "        0.        , 0.        , 0.        ]])"
      ]
     },
     "execution_count": 40,
     "metadata": {},
     "output_type": "execute_result"
    }
   ],
   "source": [
    "tfidf_array "
   ]
  },
  {
   "cell_type": "code",
   "execution_count": null,
   "id": "bf6f5048",
   "metadata": {},
   "outputs": [],
   "source": []
  }
 ],
 "metadata": {
  "kernelspec": {
   "display_name": "Python 3 (ipykernel)",
   "language": "python",
   "name": "python3"
  },
  "language_info": {
   "codemirror_mode": {
    "name": "ipython",
    "version": 3
   },
   "file_extension": ".py",
   "mimetype": "text/x-python",
   "name": "python",
   "nbconvert_exporter": "python",
   "pygments_lexer": "ipython3",
   "version": "3.9.7"
  }
 },
 "nbformat": 4,
 "nbformat_minor": 5
}
